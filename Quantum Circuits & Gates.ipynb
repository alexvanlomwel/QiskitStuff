{
 "cells": [
  {
   "cell_type": "code",
   "execution_count": 35,
   "id": "1583d895",
   "metadata": {},
   "outputs": [],
   "source": [
    "import pylatexenc\n",
    "import qiskit\n",
    "from qiskit import QuantumCircuit, transpile, Aer, execute\n",
    "from qiskit.visualization import plot_histogram\n",
    "import matplotlib.pyplot as plt"
   ]
  },
  {
   "cell_type": "markdown",
   "id": "089f7d6f",
   "metadata": {},
   "source": [
    "*Creating a Quantum Circuit*"
   ]
  },
  {
   "cell_type": "code",
   "execution_count": 33,
   "id": "45503d86",
   "metadata": {},
   "outputs": [
    {
     "data": {
      "image/png": "[encoded data removed]",
      "text/plain": [
       "<Figure size 269.064x200.667 with 1 Axes>"
      ]
     },
     "execution_count": 33,
     "metadata": {},
     "output_type": "execute_result"
    }
   ],
   "source": [
    "# Create a quantum circuit with 1 qubit and 1 classical bit\n",
    "qc = QuantumCircuit(1,2)\n",
    "\n",
    "# Apply a Hadamard gate to put the qubit in superposition\n",
    "qc.h(0)\n",
    "\n",
    "# Measure the qubit and store the result in the classical bit\n",
    "qc.measure(0,0)\n",
    "\n",
    "# Draw the circuit\n",
    "qc.draw('mpl')"
   ]
  },
  {
   "cell_type": "markdown",
   "id": "fd15d41c",
   "metadata": {},
   "source": [
    "- The / 1 indicates how many classical bits are in the bottom rail.\n",
    "\n",
    "- The arrow connects the qubit measurement operation to the classical register. The arrow pointing down to \"`0`\" means that the measurement result from the qubit (`q[0]`) will be stored in the classical bit `C[0]`.\n",
    "\n",
    "In the statement `qc.measure(qubit_index, classical_bit_index)`, there are two arguments.\n",
    "\n",
    "`qubit_index (0 in this case)`:\n",
    "- This specifies the index of the qubit you want to measure. In your example, 0 means you are measuring the qubit at index 0 in the quantum register.\n",
    "\n",
    "`classical_bit_index (0 in this case)`:\n",
    "- This specifies the index of the classical bit where you want to store the measurement result. The result of measuring the qubit will be stored in this classical bit.\n",
    "\n",
    "Notational remarks for `qc = QuantumCircuit(1, 2)`:\n",
    "- `00`: Means `c[1] = 0` and `c[0] = 0`\n",
    "\n",
    "- `01`: Means `c[1] = 0` and `c[0] = 1`\n",
    "\n",
    "*i.e.* the bits are written in reverse order."
   ]
  },
  {
   "cell_type": "code",
   "execution_count": 34,
   "id": "4b20785f",
   "metadata": {},
   "outputs": [
    {
     "name": "stdout",
     "output_type": "stream",
     "text": [
      "Counts: {'00': 535, '01': 489}\n"
     ]
    }
   ],
   "source": [
    "%matplotlib inline\n",
    "\n",
    "# Use the Aer simulator backend\n",
    "simulator = Aer.get_backend('qasm_simulator')\n",
    "\n",
    "# Execute the circuit\n",
    "job = execute(qc, backend=simulator, shots=1024)\n",
    "\n",
    "# Get the results\n",
    "result = job.result()\n",
    "\n",
    "# Get the counts (frequency of results)\n",
    "counts = result.get_counts(qc)\n",
    "print(\"Counts:\", counts)\n",
    "\n",
    "# Plot a histogram of the results\n",
    "plot_histogram(counts)\n",
    "plt.show()"
   ]
  },
  {
   "cell_type": "markdown",
   "id": "53ea7f8a",
   "metadata": {},
   "source": [
    "*More Quantum Gates*"
   ]
  },
  {
   "cell_type": "code",
   "execution_count": 29,
   "id": "a2d4f9eb",
   "metadata": {},
   "outputs": [
    {
     "data": {
      "image/png": "[encoded data removed]",
      "text/plain": [
       "<Figure size 454.517x284.278 with 1 Axes>"
      ]
     },
     "execution_count": 29,
     "metadata": {},
     "output_type": "execute_result"
    }
   ],
   "source": [
    "# Create a quantum circuit with 2 qubits and 2 classical bits\n",
    "qc = QuantumCircuit(2, 2)\n",
    "\n",
    "# Apply a Hadamard gate to the first qubit to create superposition\n",
    "qc.h(0)\n",
    "\n",
    "# Apply a CNOT gate with qubit 0 as control and qubit 1 as target\n",
    "qc.cx(0, 1)\n",
    "\n",
    "# Measure both qubits\n",
    "qc.measure([0, 1], [0, 1])\n",
    "\n",
    "# Draw the circuit\n",
    "qc.draw('mpl')"
   ]
  },
  {
   "cell_type": "markdown",
   "id": "29f182e8",
   "metadata": {},
   "source": [
    "New `qc.measure(qubit_indices, classical_bit_indices)` notation.\n",
    "\n",
    "In this case: `qc.measure([0, 1], [0, 1])`\n",
    "- `[0, 1]` (first argument): This specifies the indices of the qubits you want to measure. Here, you're measuring qubit 0 and qubit 1.\n",
    "- `[0, 1]` (second argument): This specifies the indices of the classical bits where the measurement results will be stored. Here, the measurement of qubit 0 will be stored in classical bit 0, and the measurement of qubit 1 will be stored in classical bit 1.\n",
    "\n",
    "Or for three qubits: `qc.measure([0, 1, 2], [0, 1, 2])`. Can alternatively be written as:\n",
    "- qc.measure(0, 0)\n",
    "- qc.measure(1, 1)\n",
    "- qc.measure(2, 2)\n"
   ]
  },
  {
   "cell_type": "code",
   "execution_count": 30,
   "id": "446d15bb",
   "metadata": {},
   "outputs": [
    {
     "name": "stdout",
     "output_type": "stream",
     "text": [
      "Counts: {'00': 519, '11': 505}\n"
     ]
    }
   ],
   "source": [
    "# Execute the circuit using the Aer simulator backend\n",
    "simulator = Aer.get_backend('qasm_simulator')\n",
    "job = execute(qc, backend=simulator, shots=1024)\n",
    "result = job.result()\n",
    "\n",
    "# Get and display the counts\n",
    "counts = result.get_counts(qc)\n",
    "print(\"Counts:\", counts)"
   ]
  },
  {
   "cell_type": "markdown",
   "id": "1d550dab",
   "metadata": {},
   "source": [
    "11: indicates $|11\\rangle$"
   ]
  },
  {
   "cell_type": "markdown",
   "id": "a6ae880b",
   "metadata": {},
   "source": [
    "*Another quantum circuit example*"
   ]
  },
  {
   "cell_type": "code",
   "execution_count": 37,
   "id": "50c22ea4",
   "metadata": {},
   "outputs": [
    {
     "data": {
      "image/png": "[encoded data removed]",
      "text/plain": [
       "<Figure size 621.739x284.278 with 1 Axes>"
      ]
     },
     "execution_count": 37,
     "metadata": {},
     "output_type": "execute_result"
    }
   ],
   "source": [
    "# Create a quantum circuit with 2 qubits and 2 classical bits\n",
    "qc = QuantumCircuit(2, 2)\n",
    "\n",
    "# Step 1: Apply a Hadamard gate to qubit 0 to create superposition\n",
    "qc.h(0)\n",
    "\n",
    "# Step 2: Apply a Pauli-Y gate to qubit 1\n",
    "qc.y(1)\n",
    "\n",
    "# Step 3: Apply a Pauli-Z gate to qubit 0\n",
    "qc.z(0)\n",
    "\n",
    "# Step 4: Apply an S gate to qubit 1\n",
    "qc.s(1)\n",
    "\n",
    "# Step 5: Apply a T gate to qubit 0\n",
    "qc.t(0)\n",
    "\n",
    "# Step 6: Apply a CNOT gate with qubit 0 as control and qubit 1 as target\n",
    "qc.cx(0, 1)\n",
    "\n",
    "# Step 7: Measure both qubits\n",
    "qc.measure([0, 1], [0, 1])\n",
    "\n",
    "# Draw the circuit\n",
    "qc.draw('mpl')"
   ]
  },
  {
   "cell_type": "code",
   "execution_count": 41,
   "id": "7fb01511",
   "metadata": {},
   "outputs": [
    {
     "name": "stdout",
     "output_type": "stream",
     "text": [
      "Counts: {'10': 524, '01': 500}\n"
     ]
    }
   ],
   "source": [
    "# Execute the circuit using the Aer simulator backend\n",
    "simulator = Aer.get_backend('qasm_simulator')\n",
    "job = execute(qc, backend=simulator, shots=1024)\n",
    "result = job.result()\n",
    "\n",
    "# Get and display the counts\n",
    "counts = result.get_counts(qc)\n",
    "print(\"Counts:\", counts)"
   ]
  },
  {
   "cell_type": "markdown",
   "id": "4af46160",
   "metadata": {},
   "source": [
    "*For testing by hand*"
   ]
  },
  {
   "cell_type": "code",
   "execution_count": 47,
   "id": "8d99b019",
   "metadata": {},
   "outputs": [
    {
     "data": {
      "image/png": "[encoded data removed]",
      "text/plain": [
       "<Figure size 370.906x284.278 with 1 Axes>"
      ]
     },
     "execution_count": 47,
     "metadata": {},
     "output_type": "execute_result"
    }
   ],
   "source": [
    "# Create a quantum circuit with 2 qubits and 2 classical bits\n",
    "qc = QuantumCircuit(2, 2)\n",
    "\n",
    "# Apply Hadamard gate to qubit 0\n",
    "qc.h(0)\n",
    "\n",
    "# Apply Pauli-X gate to qubit 1\n",
    "qc.x(1)\n",
    "\n",
    "# Apply Pauli-Z gate to qubit 0\n",
    "qc.z(0)\n",
    "\n",
    "# Measure both qubits\n",
    "qc.measure([0, 1], [0, 1])\n",
    "\n",
    "# Draw the circuit\n",
    "qc.draw('mpl')"
   ]
  },
  {
   "cell_type": "code",
   "execution_count": 48,
   "id": "f7672787",
   "metadata": {},
   "outputs": [
    {
     "name": "stdout",
     "output_type": "stream",
     "text": [
      "Counts: {'10': 501, '11': 523}\n"
     ]
    }
   ],
   "source": [
    "# Execute the circuit using the Aer simulator backend\n",
    "simulator = Aer.get_backend('qasm_simulator')\n",
    "job = execute(qc, backend=simulator, shots=1024)\n",
    "result = job.result()\n",
    "\n",
    "# Get and display the counts\n",
    "counts = result.get_counts(qc)\n",
    "print(\"Counts:\", counts)"
   ]
  },
  {
   "cell_type": "markdown",
   "id": "30368ddb",
   "metadata": {},
   "source": [
    "*NOTE:* the final quantum state is: $\\frac{1}{\\sqrt{2}}\\left(|01\\rangle+|11\\rangle\\right)$\n",
    "\n",
    "However, Qiskit reports outcome `10`. \n",
    "\n",
    "**Qiskit's Little-Endian Convention (General Case)**\n",
    "1. Qubit Indexing:\n",
    "- Qiskit indexes qubits from $0$ to $n-1$\n",
    "- Qubit $0$ is the least significant qubit, while Qubit $n-1$ is the most significant qubit.\n",
    "\n",
    "2. Measurement Output:\n",
    "- The measurement results are represented as bit strings of length $n$.\n",
    "- Qubit $0$ corresponds to the rightmost bit in the output string.\n",
    "- Qubit $n-1$ corresponds to the leftmost bit in the output string.\n"
   ]
  },
  {
   "cell_type": "code",
   "execution_count": null,
   "id": "dd9ea4f9",
   "metadata": {},
   "outputs": [],
   "source": []
  }
 ],
 "metadata": {
  "kernelspec": {
   "display_name": "Python 3 (ipykernel)",
   "language": "python",
   "name": "python3"
  },
  "language_info": {
   "codemirror_mode": {
    "name": "ipython",
    "version": 3
   },
   "file_extension": ".py",
   "mimetype": "text/x-python",
   "name": "python",
   "nbconvert_exporter": "python",
   "pygments_lexer": "ipython3",
   "version": "3.10.9"
  }
 },
 "nbformat": 4,
 "nbformat_minor": 5
}
